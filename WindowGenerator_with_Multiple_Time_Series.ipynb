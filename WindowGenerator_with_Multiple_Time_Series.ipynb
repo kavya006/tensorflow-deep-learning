{
  "nbformat": 4,
  "nbformat_minor": 0,
  "metadata": {
    "colab": {
      "name": "WindowGenerator with Multiple Time Series",
      "provenance": [],
      "collapsed_sections": [],
      "authorship_tag": "ABX9TyPN4TI7gNdrJT2XquxKvQdf",
      "include_colab_link": true
    },
    "kernelspec": {
      "name": "python3",
      "display_name": "Python 3"
    },
    "language_info": {
      "name": "python"
    }
  },
  "cells": [
    {
      "cell_type": "markdown",
      "metadata": {
        "id": "view-in-github",
        "colab_type": "text"
      },
      "source": [
        "<a href=\"https://colab.research.google.com/github/kavya006/tensorflow-deep-learning/blob/main/WindowGenerator_with_Multiple_Time_Series.ipynb\" target=\"_parent\"><img src=\"https://colab.research.google.com/assets/colab-badge.svg\" alt=\"Open In Colab\"/></a>"
      ]
    },
    {
      "cell_type": "markdown",
      "source": [
        "# Add the relevant imports at the beginning of the notebook"
      ],
      "metadata": {
        "id": "esZW62R__B8f"
      }
    },
    {
      "cell_type": "code",
      "execution_count": 1,
      "metadata": {
        "id": "NOELG5gvioA0"
      },
      "outputs": [],
      "source": [
        "import os\n",
        "import datetime\n",
        "\n",
        "import IPython\n",
        "import IPython.display\n",
        "import matplotlib as mpl\n",
        "import matplotlib.pyplot as plt\n",
        "import numpy as np\n",
        "import pandas as pd\n",
        "import seaborn as sns\n",
        "import tensorflow as tf\n",
        "from tensorflow.keras.utils import timeseries_dataset_from_array\n",
        "\n",
        "mpl.rcParams['figure.figsize'] = (8, 6)\n",
        "mpl.rcParams['axes.grid'] = False"
      ]
    },
    {
      "cell_type": "code",
      "source": [
        "zip_path = tf.keras.utils.get_file(\n",
        "    origin='https://storage.googleapis.com/tensorflow/tf-keras-datasets/jena_climate_2009_2016.csv.zip',\n",
        "    fname='jena_climate_2009_2016.csv.zip',\n",
        "    extract=True)\n",
        "csv_path, _ = os.path.splitext(zip_path)"
      ],
      "metadata": {
        "id": "b97ytJqPi1gH"
      },
      "execution_count": 2,
      "outputs": []
    },
    {
      "cell_type": "markdown",
      "source": [
        "# Window Generator for multiple time series in a single dataframe "
      ],
      "metadata": {
        "id": "raZEQshMqalU"
      }
    },
    {
      "cell_type": "markdown",
      "source": [
        "## Prepraring dummy multiple time series in a single dataframe"
      ],
      "metadata": {
        "id": "P9Ucn9RZqkVA"
      }
    },
    {
      "cell_type": "code",
      "source": [
        "df = pd.read_csv(csv_path).drop_duplicates('Date Time')\n",
        "# Slice [start:stop:step], starting from index 5 take every 6th record.\n",
        "df = df[5::6]\n",
        "\n",
        "date_time = pd.to_datetime(df.pop('Date Time'), format='%d.%m.%Y %H:%M:%S')\n",
        "df['date'] = date_time"
      ],
      "metadata": {
        "id": "ED_QC82CqwsM"
      },
      "execution_count": 3,
      "outputs": []
    },
    {
      "cell_type": "code",
      "source": [
        "LABELS = ['T (degC)']\n",
        "REGRESSORS = ['p (mbar)', 'rh (%)']\n",
        "DATE = 'date' \n",
        "IN_STEPS = 24\n",
        "OUT_STEPS = 24  \n",
        "GROUPBY = ['SeriesID']\n",
        "BATCH_SIZE = 8 "
      ],
      "metadata": {
        "id": "lrwLyz67q4KI"
      },
      "execution_count": 4,
      "outputs": []
    },
    {
      "cell_type": "code",
      "source": [
        "series_1 = df[LABELS + REGRESSORS + [DATE]]\n",
        "series_1.loc[:, 'SeriesID'] = 1\n",
        "\n",
        "series_2 = df[LABELS + REGRESSORS + [DATE]]\n",
        "series_2.loc[:, 'SeriesID'] = 2\n",
        "\n",
        "series_3 = df[LABELS + REGRESSORS + [DATE]]\n",
        "series_3.loc[:, 'SeriesID'] = 3 \n",
        "\n",
        "series = pd.concat([series_1, series_2, series_3], axis=0).reset_index(drop=True)\n",
        "series"
      ],
      "metadata": {
        "colab": {
          "base_uri": "https://localhost:8080/",
          "height": 528
        },
        "id": "Vpbol0hjrafF",
        "outputId": "c1d304a4-c463-4fed-a85a-fb352f1008f4"
      },
      "execution_count": 5,
      "outputs": [
        {
          "output_type": "stream",
          "name": "stderr",
          "text": [
            "/usr/local/lib/python3.7/dist-packages/pandas/core/indexing.py:1667: SettingWithCopyWarning: \n",
            "A value is trying to be set on a copy of a slice from a DataFrame.\n",
            "Try using .loc[row_indexer,col_indexer] = value instead\n",
            "\n",
            "See the caveats in the documentation: https://pandas.pydata.org/pandas-docs/stable/user_guide/indexing.html#returning-a-view-versus-a-copy\n",
            "  self.obj[key] = value\n"
          ]
        },
        {
          "output_type": "execute_result",
          "data": {
            "text/plain": [
              "        T (degC)  p (mbar)  rh (%)                date  SeriesID\n",
              "0          -8.05    996.50   94.40 2009-01-01 01:00:00         1\n",
              "1          -8.88    996.62   93.20 2009-01-01 02:00:00         1\n",
              "2          -8.81    996.84   93.50 2009-01-01 03:00:00         1\n",
              "3          -9.05    996.99   92.60 2009-01-01 04:00:00         1\n",
              "4          -9.63    997.46   92.20 2009-01-01 05:00:00         1\n",
              "...          ...       ...     ...                 ...       ...\n",
              "210106     -1.61   1001.78   70.60 2016-12-31 19:40:00         3\n",
              "210107     -3.30   1001.39   76.50 2016-12-31 20:40:00         3\n",
              "210108     -2.48   1001.00   71.10 2016-12-31 21:40:00         3\n",
              "210109     -4.45   1000.45   81.30 2016-12-31 22:40:00         3\n",
              "210110     -3.16    999.82   67.91 2016-12-31 23:40:00         3\n",
              "\n",
              "[210111 rows x 5 columns]"
            ],
            "text/html": [
              "\n",
              "  <div id=\"df-d5dc88b3-0aa1-41c4-8db5-85a04045e7c9\">\n",
              "    <div class=\"colab-df-container\">\n",
              "      <div>\n",
              "<style scoped>\n",
              "    .dataframe tbody tr th:only-of-type {\n",
              "        vertical-align: middle;\n",
              "    }\n",
              "\n",
              "    .dataframe tbody tr th {\n",
              "        vertical-align: top;\n",
              "    }\n",
              "\n",
              "    .dataframe thead th {\n",
              "        text-align: right;\n",
              "    }\n",
              "</style>\n",
              "<table border=\"1\" class=\"dataframe\">\n",
              "  <thead>\n",
              "    <tr style=\"text-align: right;\">\n",
              "      <th></th>\n",
              "      <th>T (degC)</th>\n",
              "      <th>p (mbar)</th>\n",
              "      <th>rh (%)</th>\n",
              "      <th>date</th>\n",
              "      <th>SeriesID</th>\n",
              "    </tr>\n",
              "  </thead>\n",
              "  <tbody>\n",
              "    <tr>\n",
              "      <th>0</th>\n",
              "      <td>-8.05</td>\n",
              "      <td>996.50</td>\n",
              "      <td>94.40</td>\n",
              "      <td>2009-01-01 01:00:00</td>\n",
              "      <td>1</td>\n",
              "    </tr>\n",
              "    <tr>\n",
              "      <th>1</th>\n",
              "      <td>-8.88</td>\n",
              "      <td>996.62</td>\n",
              "      <td>93.20</td>\n",
              "      <td>2009-01-01 02:00:00</td>\n",
              "      <td>1</td>\n",
              "    </tr>\n",
              "    <tr>\n",
              "      <th>2</th>\n",
              "      <td>-8.81</td>\n",
              "      <td>996.84</td>\n",
              "      <td>93.50</td>\n",
              "      <td>2009-01-01 03:00:00</td>\n",
              "      <td>1</td>\n",
              "    </tr>\n",
              "    <tr>\n",
              "      <th>3</th>\n",
              "      <td>-9.05</td>\n",
              "      <td>996.99</td>\n",
              "      <td>92.60</td>\n",
              "      <td>2009-01-01 04:00:00</td>\n",
              "      <td>1</td>\n",
              "    </tr>\n",
              "    <tr>\n",
              "      <th>4</th>\n",
              "      <td>-9.63</td>\n",
              "      <td>997.46</td>\n",
              "      <td>92.20</td>\n",
              "      <td>2009-01-01 05:00:00</td>\n",
              "      <td>1</td>\n",
              "    </tr>\n",
              "    <tr>\n",
              "      <th>...</th>\n",
              "      <td>...</td>\n",
              "      <td>...</td>\n",
              "      <td>...</td>\n",
              "      <td>...</td>\n",
              "      <td>...</td>\n",
              "    </tr>\n",
              "    <tr>\n",
              "      <th>210106</th>\n",
              "      <td>-1.61</td>\n",
              "      <td>1001.78</td>\n",
              "      <td>70.60</td>\n",
              "      <td>2016-12-31 19:40:00</td>\n",
              "      <td>3</td>\n",
              "    </tr>\n",
              "    <tr>\n",
              "      <th>210107</th>\n",
              "      <td>-3.30</td>\n",
              "      <td>1001.39</td>\n",
              "      <td>76.50</td>\n",
              "      <td>2016-12-31 20:40:00</td>\n",
              "      <td>3</td>\n",
              "    </tr>\n",
              "    <tr>\n",
              "      <th>210108</th>\n",
              "      <td>-2.48</td>\n",
              "      <td>1001.00</td>\n",
              "      <td>71.10</td>\n",
              "      <td>2016-12-31 21:40:00</td>\n",
              "      <td>3</td>\n",
              "    </tr>\n",
              "    <tr>\n",
              "      <th>210109</th>\n",
              "      <td>-4.45</td>\n",
              "      <td>1000.45</td>\n",
              "      <td>81.30</td>\n",
              "      <td>2016-12-31 22:40:00</td>\n",
              "      <td>3</td>\n",
              "    </tr>\n",
              "    <tr>\n",
              "      <th>210110</th>\n",
              "      <td>-3.16</td>\n",
              "      <td>999.82</td>\n",
              "      <td>67.91</td>\n",
              "      <td>2016-12-31 23:40:00</td>\n",
              "      <td>3</td>\n",
              "    </tr>\n",
              "  </tbody>\n",
              "</table>\n",
              "<p>210111 rows × 5 columns</p>\n",
              "</div>\n",
              "      <button class=\"colab-df-convert\" onclick=\"convertToInteractive('df-d5dc88b3-0aa1-41c4-8db5-85a04045e7c9')\"\n",
              "              title=\"Convert this dataframe to an interactive table.\"\n",
              "              style=\"display:none;\">\n",
              "        \n",
              "  <svg xmlns=\"http://www.w3.org/2000/svg\" height=\"24px\"viewBox=\"0 0 24 24\"\n",
              "       width=\"24px\">\n",
              "    <path d=\"M0 0h24v24H0V0z\" fill=\"none\"/>\n",
              "    <path d=\"M18.56 5.44l.94 2.06.94-2.06 2.06-.94-2.06-.94-.94-2.06-.94 2.06-2.06.94zm-11 1L8.5 8.5l.94-2.06 2.06-.94-2.06-.94L8.5 2.5l-.94 2.06-2.06.94zm10 10l.94 2.06.94-2.06 2.06-.94-2.06-.94-.94-2.06-.94 2.06-2.06.94z\"/><path d=\"M17.41 7.96l-1.37-1.37c-.4-.4-.92-.59-1.43-.59-.52 0-1.04.2-1.43.59L10.3 9.45l-7.72 7.72c-.78.78-.78 2.05 0 2.83L4 21.41c.39.39.9.59 1.41.59.51 0 1.02-.2 1.41-.59l7.78-7.78 2.81-2.81c.8-.78.8-2.07 0-2.86zM5.41 20L4 18.59l7.72-7.72 1.47 1.35L5.41 20z\"/>\n",
              "  </svg>\n",
              "      </button>\n",
              "      \n",
              "  <style>\n",
              "    .colab-df-container {\n",
              "      display:flex;\n",
              "      flex-wrap:wrap;\n",
              "      gap: 12px;\n",
              "    }\n",
              "\n",
              "    .colab-df-convert {\n",
              "      background-color: #E8F0FE;\n",
              "      border: none;\n",
              "      border-radius: 50%;\n",
              "      cursor: pointer;\n",
              "      display: none;\n",
              "      fill: #1967D2;\n",
              "      height: 32px;\n",
              "      padding: 0 0 0 0;\n",
              "      width: 32px;\n",
              "    }\n",
              "\n",
              "    .colab-df-convert:hover {\n",
              "      background-color: #E2EBFA;\n",
              "      box-shadow: 0px 1px 2px rgba(60, 64, 67, 0.3), 0px 1px 3px 1px rgba(60, 64, 67, 0.15);\n",
              "      fill: #174EA6;\n",
              "    }\n",
              "\n",
              "    [theme=dark] .colab-df-convert {\n",
              "      background-color: #3B4455;\n",
              "      fill: #D2E3FC;\n",
              "    }\n",
              "\n",
              "    [theme=dark] .colab-df-convert:hover {\n",
              "      background-color: #434B5C;\n",
              "      box-shadow: 0px 1px 3px 1px rgba(0, 0, 0, 0.15);\n",
              "      filter: drop-shadow(0px 1px 2px rgba(0, 0, 0, 0.3));\n",
              "      fill: #FFFFFF;\n",
              "    }\n",
              "  </style>\n",
              "\n",
              "      <script>\n",
              "        const buttonEl =\n",
              "          document.querySelector('#df-d5dc88b3-0aa1-41c4-8db5-85a04045e7c9 button.colab-df-convert');\n",
              "        buttonEl.style.display =\n",
              "          google.colab.kernel.accessAllowed ? 'block' : 'none';\n",
              "\n",
              "        async function convertToInteractive(key) {\n",
              "          const element = document.querySelector('#df-d5dc88b3-0aa1-41c4-8db5-85a04045e7c9');\n",
              "          const dataTable =\n",
              "            await google.colab.kernel.invokeFunction('convertToInteractive',\n",
              "                                                     [key], {});\n",
              "          if (!dataTable) return;\n",
              "\n",
              "          const docLinkHtml = 'Like what you see? Visit the ' +\n",
              "            '<a target=\"_blank\" href=https://colab.research.google.com/notebooks/data_table.ipynb>data table notebook</a>'\n",
              "            + ' to learn more about interactive tables.';\n",
              "          element.innerHTML = '';\n",
              "          dataTable['output_type'] = 'display_data';\n",
              "          await google.colab.output.renderOutput(dataTable, element);\n",
              "          const docLink = document.createElement('div');\n",
              "          docLink.innerHTML = docLinkHtml;\n",
              "          element.appendChild(docLink);\n",
              "        }\n",
              "      </script>\n",
              "    </div>\n",
              "  </div>\n",
              "  "
            ]
          },
          "metadata": {},
          "execution_count": 5
        }
      ]
    },
    {
      "cell_type": "code",
      "source": [
        "n = len(df)\n",
        "train_series = series.groupby(GROUPBY, as_index=False).apply(lambda x: x.iloc[:int(n * 0.7)]).reset_index(drop=True)\n",
        "val_series = series.groupby(GROUPBY, as_index=False).apply(lambda x: x.iloc[int(n * 0.7):int(n * 0.9)]).reset_index(drop=True)\n",
        "test_series = series.groupby(GROUPBY, as_index=False).apply(lambda x: x.iloc[int(n * 0.9):]).reset_index(drop=True)\n",
        "train_series.shape, val_series.shape, test_series.shape"
      ],
      "metadata": {
        "colab": {
          "base_uri": "https://localhost:8080/"
        },
        "id": "Ep9XXbsVsJN7",
        "outputId": "78a515b6-98c9-4260-8130-6aa0467a5b29"
      },
      "execution_count": 6,
      "outputs": [
        {
          "output_type": "execute_result",
          "data": {
            "text/plain": [
              "((147075, 5), (42024, 5), (21012, 5))"
            ]
          },
          "metadata": {},
          "execution_count": 6
        }
      ]
    },
    {
      "cell_type": "code",
      "source": [
        "train_series[GROUPBY].value_counts()"
      ],
      "metadata": {
        "colab": {
          "base_uri": "https://localhost:8080/"
        },
        "id": "JWyFxuIHuCwa",
        "outputId": "6731b710-90ae-41ee-a9c8-6894a57bad79"
      },
      "execution_count": 7,
      "outputs": [
        {
          "output_type": "execute_result",
          "data": {
            "text/plain": [
              "SeriesID\n",
              "1           49025\n",
              "2           49025\n",
              "3           49025\n",
              "dtype: int64"
            ]
          },
          "metadata": {},
          "execution_count": 7
        }
      ]
    },
    {
      "cell_type": "markdown",
      "source": [
        "## Updating the window generator for multiple time series "
      ],
      "metadata": {
        "id": "wjRAq4P0qok-"
      }
    },
    {
      "cell_type": "code",
      "source": [
        "class WindowGenerator():\n",
        "  def __init__(self, input_width, label_width, shift, batch_size, label_columns=[], GROUPBY=None, regressor_columns=[], static_columns=[]):\n",
        "\n",
        "    self.batch_size = batch_size\n",
        "\n",
        "    # Work out the label column indices.\n",
        "    self.label_columns = label_columns\n",
        "    if len(label_columns) != 0:\n",
        "      self.label_columns_indices = {name: i for i, name in\n",
        "                                    enumerate(label_columns)}\n",
        "    \n",
        "    self.GROUPBY = GROUPBY \n",
        "    self.regressor_columns = regressor_columns\n",
        "    self.static_columns = static_columns\n",
        "\n",
        "    # Work out the window parameters.\n",
        "    self.input_width = input_width\n",
        "    self.label_width = label_width\n",
        "    self.shift = shift\n",
        "\n",
        "    self.total_window_size = input_width + shift\n",
        "\n",
        "    self.input_slice = slice(0, input_width)\n",
        "    self.input_indices = np.arange(self.total_window_size)[self.input_slice]\n",
        "\n",
        "    self.label_start = self.total_window_size - self.label_width\n",
        "    self.labels_slice = slice(self.label_start, None)\n",
        "    self.label_indices = np.arange(self.total_window_size)[self.labels_slice]\n",
        "\n",
        "  def __repr__(self):\n",
        "    return '\\n'.join([\n",
        "        f'Total window size: {self.total_window_size}',\n",
        "        f'Input indices: {self.input_indices}',\n",
        "        f'Label indices: {self.label_indices}',\n",
        "        f'Batch Size: {self.batch_size}',\n",
        "        f'Label column name(s): {self.label_columns}',\n",
        "        f'Additional Regressor column name(s): {self.regressor_columns}', \n",
        "        f'GROUPBY column(s): {self.GROUPBY}' \n",
        "        ])"
      ],
      "metadata": {
        "id": "l8RdTB8nob4u"
      },
      "execution_count": 8,
      "outputs": []
    },
    {
      "cell_type": "code",
      "source": [
        "def preprocess_dataset(self:WindowGenerator, data:pd.DataFrame):\n",
        "    try:\n",
        "      if np.vstack(data.index).shape[1] != 1:\n",
        "        data = data.reset_index() \n",
        "\n",
        "      by = self.GROUPBY + [DATE] \n",
        "      labels = self.label_columns + self.regressor_columns + self.static_columns\n",
        "      data = data.set_index(by).unstack(-1)\n",
        "      data = tf.stack([data[label] for label in labels], axis=-1)\n",
        "      \n",
        "      if data.ndim != 3:\n",
        "          data = data[None, None, tf.newaxis]\n",
        "    except Exception as e:\n",
        "      print('Error while processing dataset', e)\n",
        "    return data \n",
        "\n",
        "def update_datasets(self:WindowGenerator, train_df:pd.DataFrame, val_df:pd.DataFrame, test_df:pd.DataFrame, norm:bool=False):\n",
        "    # Store the raw data.\n",
        "    self.train_df = self.preprocess_dataset(train_df)\n",
        "    self.val_df = self.preprocess_dataset(val_df)\n",
        "    self.test_df = self.preprocess_dataset(test_df)\n",
        "\n",
        "    if norm:\n",
        "      train_mean = tf.reduce_mean(self.train_df, axis=1, keepdims=True)\n",
        "      train_std = tf.math.reduce_std(self.train_df, axis=1, keepdims=True)\n",
        "\n",
        "      self.train_df = (self.train_df - train_mean) / train_std\n",
        "      self.val_df = (self.val_df - train_mean) / train_std\n",
        "      self.test_df = (self.test_df - train_mean) / train_std\n",
        "\n",
        "      self.train_mean = train_mean \n",
        "      self.train_std = train_std \n",
        "      self.norm = norm \n",
        "\n",
        "    labels = self.label_columns + self.regressor_columns + self.static_columns\n",
        "    self.column_indices = {name: i for i, name in enumerate(labels)}\n",
        "\n",
        "WindowGenerator.preprocess_dataset = preprocess_dataset \n",
        "WindowGenerator.update_datasets = update_datasets"
      ],
      "metadata": {
        "id": "3vQ2BfpcqCr6"
      },
      "execution_count": 9,
      "outputs": []
    },
    {
      "cell_type": "code",
      "source": [
        "w1 = WindowGenerator(input_width=IN_STEPS, label_width=OUT_STEPS, shift=OUT_STEPS, batch_size=BATCH_SIZE, label_columns=LABELS, GROUPBY=GROUPBY, regressor_columns=REGRESSORS)\n",
        "w1.update_datasets(train_series, val_series, test_series, norm=True)"
      ],
      "metadata": {
        "id": "6qvzvg_moixo"
      },
      "execution_count": 10,
      "outputs": []
    },
    {
      "cell_type": "code",
      "source": [
        "w1"
      ],
      "metadata": {
        "colab": {
          "base_uri": "https://localhost:8080/"
        },
        "id": "zf0a2RexqF2m",
        "outputId": "69386d5b-2955-4462-a542-63ffb656eeca"
      },
      "execution_count": 11,
      "outputs": [
        {
          "output_type": "execute_result",
          "data": {
            "text/plain": [
              "Total window size: 48\n",
              "Input indices: [ 0  1  2  3  4  5  6  7  8  9 10 11 12 13 14 15 16 17 18 19 20 21 22 23]\n",
              "Label indices: [24 25 26 27 28 29 30 31 32 33 34 35 36 37 38 39 40 41 42 43 44 45 46 47]\n",
              "Batch Size: 8\n",
              "Label column name(s): ['T (degC)']\n",
              "Additional Regressor column name(s): ['p (mbar)', 'rh (%)']\n",
              "GROUPBY column(s): ['SeriesID']"
            ]
          },
          "metadata": {},
          "execution_count": 11
        }
      ]
    },
    {
      "cell_type": "code",
      "source": [
        "def split_window(self, features:tf.Tensor):\n",
        "    inputs = features[:, self.input_slice, :]\n",
        "    labels = features[:, self.labels_slice, :]\n",
        "    if self.label_columns is not None: \n",
        "        labels = tf.stack(\n",
        "          [labels[:, :, self.column_indices[name]] \n",
        "          for name in self.label_columns], axis=-1)\n",
        "          \n",
        "    inputs.set_shape([None, self.input_width, None])\n",
        "    labels.set_shape([None, self.label_width, None])\n",
        "\n",
        "    return inputs, labels \n",
        "WindowGenerator.split_window = split_window"
      ],
      "metadata": {
        "id": "RqcRF_UlxMnr"
      },
      "execution_count": 12,
      "outputs": []
    },
    {
      "cell_type": "code",
      "source": [
        "example_window = tf.stack([\n",
        "    np.array(series_1.set_index(GROUPBY + [DATE])[:w1.total_window_size]), \n",
        "    np.array(series_1.set_index(GROUPBY + [DATE])[2:2+w1.total_window_size]),\n",
        "    np.array(series_1.set_index(GROUPBY + [DATE])[4:4+w1.total_window_size])\n",
        "])\n",
        "\n",
        "example_inputs, example_labels = w1.split_window(example_window)\n",
        "\n",
        "print('All shapes are: (batch, time, features)')\n",
        "print(f'Window shape: {example_window.shape}')\n",
        "print(f'Inputs shape: {example_inputs.shape}')\n",
        "print(f'Labels shape: {example_labels.shape}')"
      ],
      "metadata": {
        "colab": {
          "base_uri": "https://localhost:8080/"
        },
        "id": "kLQYXhRZxQo7",
        "outputId": "a679a78b-b65d-41a5-9c62-6ef861db24de"
      },
      "execution_count": 13,
      "outputs": [
        {
          "output_type": "stream",
          "name": "stdout",
          "text": [
            "All shapes are: (batch, time, features)\n",
            "Window shape: (3, 48, 3)\n",
            "Inputs shape: (3, 24, 3)\n",
            "Labels shape: (3, 24, 1)\n"
          ]
        }
      ]
    },
    {
      "cell_type": "code",
      "source": [
        "w1.example = (example_inputs, example_labels)\n",
        "\n",
        "def plot(self, model=None, plot_col=LABELS[0], max_subplots=3):\n",
        "  inputs, labels = self.example\n",
        "  plt.figure(figsize=(12, 8))\n",
        "  plot_col_index = self.column_indices[plot_col]\n",
        "  max_n = min(max_subplots, len(inputs))\n",
        "  \n",
        "  for n in range(max_n):\n",
        "    plt.subplot(max_n, 1, n+1)\n",
        "    plt.ylabel(f'{plot_col} {\"[normed]\" if self.norm else \"\"}')\n",
        "    plt.plot(self.input_indices, inputs[n, :, plot_col_index],\n",
        "             label='Inputs', marker='.', zorder=-10)\n",
        "\n",
        "    if self.label_columns:\n",
        "      label_col_index = self.label_columns_indices.get(plot_col, None)\n",
        "    else:\n",
        "      label_col_index = plot_col_index\n",
        "\n",
        "    if label_col_index is None:\n",
        "      continue\n",
        "\n",
        "    plt.scatter(self.label_indices, labels[n, :, label_col_index],\n",
        "                edgecolors='k', label='Labels', c='#2ca02c', s=64)\n",
        "    if model is not None:\n",
        "      predictions = model(inputs)\n",
        "      plt.scatter(self.label_indices, predictions[n, :, label_col_index],\n",
        "                  marker='X', edgecolors='k', label='Predictions',\n",
        "                  c='#ff7f0e', s=64)\n",
        "\n",
        "    if n == 0:\n",
        "      plt.legend()\n",
        "\n",
        "  plt.xlabel('Time [MS]')\n",
        "\n",
        "WindowGenerator.plot = plot"
      ],
      "metadata": {
        "id": "JHaYaYszxUbd"
      },
      "execution_count": 14,
      "outputs": []
    },
    {
      "cell_type": "code",
      "source": [
        "w1.plot()"
      ],
      "metadata": {
        "colab": {
          "base_uri": "https://localhost:8080/",
          "height": 497
        },
        "id": "hUevh2ITxX1P",
        "outputId": "982af036-adc4-4722-ec96-ab4e640995dc"
      },
      "execution_count": 15,
      "outputs": [
        {
          "output_type": "display_data",
          "data": {
            "text/plain": [
              "<Figure size 864x576 with 3 Axes>"
            ],
            "image/png": "[encoded data removed]"
          },
          "metadata": {
            "needs_background": "light"
          }
        }
      ]
    },
    {
      "cell_type": "code",
      "source": [
        "def make_cohort(self, data:np.array) -> tf.data.Dataset:\n",
        "    data = np.array(data, dtype=np.float32) \n",
        "    ds = timeseries_dataset_from_array(\n",
        "        data=data, \n",
        "        targets=None, \n",
        "        sequence_length=self.total_window_size, \n",
        "        sequence_stride=1, \n",
        "        shuffle=True, \n",
        "        batch_size=self.batch_size\n",
        "    )\n",
        "    ds = ds.map(self.split_window) \n",
        "    return ds \n",
        "\n",
        "WindowGenerator.make_cohort = make_cohort"
      ],
      "metadata": {
        "id": "2_EexJeQzaES"
      },
      "execution_count": 16,
      "outputs": []
    },
    {
      "cell_type": "code",
      "source": [
        "w1.make_cohort(series_1.set_index(GROUPBY + [DATE]))"
      ],
      "metadata": {
        "colab": {
          "base_uri": "https://localhost:8080/"
        },
        "id": "PsGi5AkyzwPj",
        "outputId": "5ee75579-3e23-4d84-e9d2-66485abd32c5"
      },
      "execution_count": 17,
      "outputs": [
        {
          "output_type": "execute_result",
          "data": {
            "text/plain": [
              "<MapDataset element_spec=(TensorSpec(shape=(None, 24, 3), dtype=tf.float32, name=None), TensorSpec(shape=(None, 24, 1), dtype=tf.float32, name=None))>"
            ]
          },
          "metadata": {},
          "execution_count": 17
        }
      ]
    },
    {
      "cell_type": "code",
      "source": [
        "\"\"\"\n",
        "Reference code from https://stackoverflow.com/questions/49994496/mixing-multiple-tf-data-dataset\n",
        "\"\"\"\n",
        "\n",
        "def stack_windows(*windows):\n",
        "    features = tf.concat([window[0] for window in windows], 0) \n",
        "    labels = tf.concat([window[1] for window in windows], 0) \n",
        "    return (features, labels)\n",
        "    \n",
        "def make_dataset(self, data:tf.Tensor) -> tf.data.Dataset:    \n",
        "    # num_cohorts = min(10, len(cluster_cohorts))\n",
        "    # print(cluster, num_cohorts)\n",
        "    ds_list = tuple(self.make_cohort(data[i]) for i in range(len(data)))\n",
        "    ds = tf.data.Dataset.zip(ds_list)\n",
        "    ds = ds.map(stack_windows)\n",
        "    ds = ds.unbatch() \n",
        "    ds = ds.shuffle(10, seed=0)\n",
        "    ds = ds.batch(self.batch_size) \n",
        "    ds = ds.prefetch(1)\n",
        "    return ds \n",
        "\n",
        "WindowGenerator.make_dataset = make_dataset\n"
      ],
      "metadata": {
        "id": "fX2jaWXXz-SO"
      },
      "execution_count": 18,
      "outputs": []
    },
    {
      "cell_type": "code",
      "source": [
        "w1.make_dataset(w1.train_df)"
      ],
      "metadata": {
        "colab": {
          "base_uri": "https://localhost:8080/"
        },
        "id": "Io_TAHTZ0gEO",
        "outputId": "b82f279a-0f63-42fc-f388-feb02df1ac64"
      },
      "execution_count": 19,
      "outputs": [
        {
          "output_type": "execute_result",
          "data": {
            "text/plain": [
              "<PrefetchDataset element_spec=(TensorSpec(shape=(None, 24, 3), dtype=tf.float32, name=None), TensorSpec(shape=(None, 24, 1), dtype=tf.float32, name=None))>"
            ]
          },
          "metadata": {},
          "execution_count": 19
        }
      ]
    },
    {
      "cell_type": "code",
      "source": [
        "@property\n",
        "def train(self) -> tf.data.Dataset:\n",
        "    return self.make_dataset(self.train_df)\n",
        "\n",
        "@property \n",
        "def val(self) -> tf.data.Dataset:\n",
        "    return self.make_dataset(self.val_df)\n",
        "\n",
        "@property \n",
        "def test(self) -> tf.data.Dataset:\n",
        "    return self.make_dataset(self.test_df)\n",
        "\n",
        "@property\n",
        "def example(self):\n",
        "    \"\"\"Get and cache an example batch of `inputs, labels` for plotting\"\"\"\n",
        "    result = getattr(self, '_example', None) \n",
        "    print('Number of train batches:', len(list(self.train.as_numpy_iterator())))\n",
        "    if result is None: \n",
        "        result = next(iter(self.train)) \n",
        "        self._example = result \n",
        "    return result \n",
        "\n",
        "WindowGenerator.train = train \n",
        "WindowGenerator.test = test \n",
        "WindowGenerator.val = val \n",
        "WindowGenerator.example = example "
      ],
      "metadata": {
        "id": "eI5VOX8v0zl5"
      },
      "execution_count": 20,
      "outputs": []
    },
    {
      "cell_type": "code",
      "source": [
        "for example_inputs, example_labels in w1.train.take(1):\n",
        "    print(f'Inputs shape (batch, time, features): {example_inputs.shape}')\n",
        "    print(f'Labels shape (batch, time, features): {example_labels.shape}')"
      ],
      "metadata": {
        "colab": {
          "base_uri": "https://localhost:8080/"
        },
        "id": "4evSUQJn1Gx5",
        "outputId": "1530da3e-a27c-444e-ee57-17c452b0466f"
      },
      "execution_count": 21,
      "outputs": [
        {
          "output_type": "stream",
          "name": "stdout",
          "text": [
            "Inputs shape (batch, time, features): (8, 24, 3)\n",
            "Labels shape (batch, time, features): (8, 24, 1)\n"
          ]
        }
      ]
    },
    {
      "cell_type": "code",
      "source": [
        "w1.plot()"
      ],
      "metadata": {
        "colab": {
          "base_uri": "https://localhost:8080/",
          "height": 514
        },
        "id": "DXzNbKHL3n38",
        "outputId": "f401717c-cf64-445e-8819-405188a52f36"
      },
      "execution_count": 22,
      "outputs": [
        {
          "output_type": "stream",
          "name": "stdout",
          "text": [
            "Number of train batches: 18367\n"
          ]
        },
        {
          "output_type": "display_data",
          "data": {
            "text/plain": [
              "<Figure size 864x576 with 3 Axes>"
            ],
            "image/png": "[encoded data removed]"
          },
          "metadata": {
            "needs_background": "light"
          }
        }
      ]
    },
    {
      "cell_type": "markdown",
      "source": [
        "# Baseline models"
      ],
      "metadata": {
        "id": "Uh1ysOgf1KeQ"
      }
    },
    {
      "cell_type": "code",
      "source": [
        "single_step_window = WindowGenerator(\n",
        "    input_width=1, label_width=1, shift=1, batch_size=BATCH_SIZE, GROUPBY=GROUPBY, label_columns=LABELS, regressor_columns=REGRESSORS)\n",
        "single_step_window.update_datasets(train_series, val_series, test_series, norm=True)"
      ],
      "metadata": {
        "id": "ZM5dap_34HZy"
      },
      "execution_count": 23,
      "outputs": []
    },
    {
      "cell_type": "code",
      "source": [
        "class Baseline(tf.keras.Model):\n",
        "  def __init__(self, label_index=None):\n",
        "    super().__init__()\n",
        "    self.label_index = label_index\n",
        "\n",
        "  def call(self, inputs):\n",
        "    if self.label_index is None:\n",
        "      return inputs\n",
        "    result = inputs[:, :, self.label_index]\n",
        "    return result[:, :, tf.newaxis]"
      ],
      "metadata": {
        "id": "VBggSAsd1Us3"
      },
      "execution_count": 24,
      "outputs": []
    },
    {
      "cell_type": "code",
      "source": [
        "baseline = Baseline(label_index=single_step_window.column_indices[LABELS[0]])\n",
        "\n",
        "baseline.compile(loss=tf.keras.losses.MeanSquaredError(),\n",
        "                 metrics=[tf.keras.metrics.MeanAbsoluteError()])\n",
        "\n",
        "val_performance = {}\n",
        "performance = {}\n",
        "val_performance['Baseline'] = baseline.evaluate(single_step_window.val)\n",
        "performance['Baseline'] = baseline.evaluate(single_step_window.test, verbose=0)"
      ],
      "metadata": {
        "colab": {
          "base_uri": "https://localhost:8080/"
        },
        "id": "R0XH4jgj1VEI",
        "outputId": "a2cb1181-af1b-4f9f-cc79-f0a3ab798b04"
      },
      "execution_count": 25,
      "outputs": [
        {
          "output_type": "stream",
          "name": "stdout",
          "text": [
            "5253/5253 [==============================] - 27s 5ms/step - loss: 0.0130 - mean_absolute_error: 0.0789\n"
          ]
        }
      ]
    },
    {
      "cell_type": "code",
      "source": [
        "wide_window = WindowGenerator(\n",
        "    input_width=24, label_width=24, shift=1, batch_size=BATCH_SIZE, GROUPBY = GROUPBY,\n",
        "    label_columns=LABELS, regressor_columns=REGRESSORS) \n",
        "wide_window.update_datasets(train_series, val_series, test_series, norm=True)\n",
        "wide_window"
      ],
      "metadata": {
        "colab": {
          "base_uri": "https://localhost:8080/"
        },
        "id": "xU9DwpDf8cRj",
        "outputId": "89fae241-29a5-4b84-fc59-0db5dd328735"
      },
      "execution_count": 26,
      "outputs": [
        {
          "output_type": "execute_result",
          "data": {
            "text/plain": [
              "Total window size: 25\n",
              "Input indices: [ 0  1  2  3  4  5  6  7  8  9 10 11 12 13 14 15 16 17 18 19 20 21 22 23]\n",
              "Label indices: [ 1  2  3  4  5  6  7  8  9 10 11 12 13 14 15 16 17 18 19 20 21 22 23 24]\n",
              "Batch Size: 8\n",
              "Label column name(s): ['T (degC)']\n",
              "Additional Regressor column name(s): ['p (mbar)', 'rh (%)']\n",
              "GROUPBY column(s): ['SeriesID']"
            ]
          },
          "metadata": {},
          "execution_count": 26
        }
      ]
    },
    {
      "cell_type": "code",
      "source": [
        "wide_window.plot(baseline)"
      ],
      "metadata": {
        "colab": {
          "base_uri": "https://localhost:8080/",
          "height": 514
        },
        "id": "38agMFFW8uMd",
        "outputId": "15ae0291-a0fc-403d-c130-6a30ccf00431"
      },
      "execution_count": 27,
      "outputs": [
        {
          "output_type": "stream",
          "name": "stdout",
          "text": [
            "Number of train batches: 18376\n"
          ]
        },
        {
          "output_type": "display_data",
          "data": {
            "text/plain": [
              "<Figure size 864x576 with 3 Axes>"
            ],
            "image/png": "[encoded data removed]"
          },
          "metadata": {
            "needs_background": "light"
          }
        }
      ]
    }
  ]
}